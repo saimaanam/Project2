{
 "cells": [
  {
   "cell_type": "code",
   "execution_count": 2,
   "id": "a18237f0-1284-4329-85a5-20af4b096b43",
   "metadata": {},
   "outputs": [
    {
     "name": "stdout",
     "output_type": "stream",
     "text": [
      "0    1\n",
      "1    2\n",
      "2    3\n",
      "dtype: int64\n",
      "3\n"
     ]
    }
   ],
   "source": [
    "import pandas as pd # creating alias as pd\n",
    "\n",
    "nums = pd.Series([1, 2, 3]) # list\n",
    "print(nums.head()) # to print series\n",
    "print(nums[2])"
   ]
  },
  {
   "cell_type": "code",
   "execution_count": 3,
   "id": "20bedfb9-66cb-44de-8829-36180fdd63b6",
   "metadata": {},
   "outputs": [
    {
     "data": {
      "text/plain": [
       "a       1\n",
       "11    NaN\n",
       "12      3\n",
       "dtype: object"
      ]
     },
     "execution_count": 3,
     "metadata": {},
     "output_type": "execute_result"
    }
   ],
   "source": [
    "custom_index = pd.Series(['1', float('NaN'), 3], index=['a', 11, 12]) # NaN means not a number\n",
    "custom_index.head()\n",
    "# custom_index = pd.Series({'a':'1', 11:float('NaN'), 12:3}) # using dictionary"
   ]
  },
  {
   "cell_type": "code",
   "execution_count": 10,
   "id": "633e39ec-fda3-48c2-95f5-83e979586da3",
   "metadata": {},
   "outputs": [
    {
     "name": "stdout",
     "output_type": "stream",
     "text": [
      "  product  unit_sold\n",
      "1  e-book       2000\n",
      "2  plants       6000\n",
      "3  Pencil       3000\n",
      "  product  unit_sold\n",
      "0  e-book       2000\n",
      "1  plants       5000\n",
      "2  Pencil       3000\n",
      "  product unit_sold\n",
      "1  e-book      2000\n",
      "2  Plants      6000\n",
      "3  Pencil      3000\n"
     ]
    }
   ],
   "source": [
    "import numpy as np\n",
    "# using list\n",
    "product_data=[['e-book', 2000], ['plants', 6000], ['Pencil', 3000]] # 2d list, similar to 2d array\n",
    "indexes=[1,2,3]\n",
    "columns_name=['product', 'unit_sold']\n",
    "product_df = pd.DataFrame(data=product_data, index=indexes, columns=columns_name)\n",
    "print(product_df)\n",
    "\n",
    "# using dictionaries\n",
    "\n",
    "product_data={'product': ['e-book', 'plants', 'Pencil'], 'unit_sold': [2000, 5000, 3000]}\n",
    "product_df = pd.DataFrame(data=product_data)\n",
    "print(product_df)\n",
    "\n",
    "# using numpy array\n",
    "products = np.array([['','product','unit_sold'], [1, 'e-book', 2000],[2, 'Plants', 6000], [3, 'Pencil', 3000]])\n",
    "product_pf = pd.DataFrame(data=products[1:,1:], # [1:,1:] from first row till end, from first column till end\n",
    "                          index=products[1:,0], # [1:,0] from first row till end, only first column\n",
    "                          columns=products[0,1:]) # [1:,0] only first row, form first column till end\n",
    "print(product_pf) # output is same as of first case"
   ]
  },
  {
   "cell_type": "code",
   "execution_count": 92,
   "id": "35612947-9fe6-45b7-97cb-3fca54352974",
   "metadata": {},
   "outputs": [
    {
     "ename": "IndexError",
     "evalue": "single positional indexer is out-of-bounds",
     "output_type": "error",
     "traceback": [
      "\u001b[1;31m---------------------------------------------------------------------------\u001b[0m",
      "\u001b[1;31mIndexError\u001b[0m                                Traceback (most recent call last)",
      "Cell \u001b[1;32mIn[92], line 1\u001b[0m\n\u001b[1;32m----> 1\u001b[0m row \u001b[38;5;241m=\u001b[39m \u001b[43mproduct_df\u001b[49m\u001b[38;5;241;43m.\u001b[39;49m\u001b[43miloc\u001b[49m\u001b[43m[\u001b[49m\u001b[38;5;241;43m2\u001b[39;49m\u001b[43m]\u001b[49m \u001b[38;5;66;03m# fetch third row\u001b[39;00m\n\u001b[0;32m      2\u001b[0m rows \u001b[38;5;241m=\u001b[39m product_df\u001b[38;5;241m.\u001b[39miloc[\u001b[38;5;241m0\u001b[39m:\u001b[38;5;241m2\u001b[39m] \u001b[38;5;66;03m# fetch rows from first till third but not third\u001b[39;00m\n",
      "File \u001b[1;32m~\\AppData\\Local\\Programs\\Python\\Python310\\lib\\site-packages\\pandas\\core\\indexing.py:1191\u001b[0m, in \u001b[0;36m_LocationIndexer.__getitem__\u001b[1;34m(self, key)\u001b[0m\n\u001b[0;32m   1189\u001b[0m maybe_callable \u001b[38;5;241m=\u001b[39m com\u001b[38;5;241m.\u001b[39mapply_if_callable(key, \u001b[38;5;28mself\u001b[39m\u001b[38;5;241m.\u001b[39mobj)\n\u001b[0;32m   1190\u001b[0m maybe_callable \u001b[38;5;241m=\u001b[39m \u001b[38;5;28mself\u001b[39m\u001b[38;5;241m.\u001b[39m_check_deprecated_callable_usage(key, maybe_callable)\n\u001b[1;32m-> 1191\u001b[0m \u001b[38;5;28;01mreturn\u001b[39;00m \u001b[38;5;28;43mself\u001b[39;49m\u001b[38;5;241;43m.\u001b[39;49m\u001b[43m_getitem_axis\u001b[49m\u001b[43m(\u001b[49m\u001b[43mmaybe_callable\u001b[49m\u001b[43m,\u001b[49m\u001b[43m \u001b[49m\u001b[43maxis\u001b[49m\u001b[38;5;241;43m=\u001b[39;49m\u001b[43maxis\u001b[49m\u001b[43m)\u001b[49m\n",
      "File \u001b[1;32m~\\AppData\\Local\\Programs\\Python\\Python310\\lib\\site-packages\\pandas\\core\\indexing.py:1752\u001b[0m, in \u001b[0;36m_iLocIndexer._getitem_axis\u001b[1;34m(self, key, axis)\u001b[0m\n\u001b[0;32m   1749\u001b[0m     \u001b[38;5;28;01mraise\u001b[39;00m \u001b[38;5;167;01mTypeError\u001b[39;00m(\u001b[38;5;124m\"\u001b[39m\u001b[38;5;124mCannot index by location index with a non-integer key\u001b[39m\u001b[38;5;124m\"\u001b[39m)\n\u001b[0;32m   1751\u001b[0m \u001b[38;5;66;03m# validate the location\u001b[39;00m\n\u001b[1;32m-> 1752\u001b[0m \u001b[38;5;28;43mself\u001b[39;49m\u001b[38;5;241;43m.\u001b[39;49m\u001b[43m_validate_integer\u001b[49m\u001b[43m(\u001b[49m\u001b[43mkey\u001b[49m\u001b[43m,\u001b[49m\u001b[43m \u001b[49m\u001b[43maxis\u001b[49m\u001b[43m)\u001b[49m\n\u001b[0;32m   1754\u001b[0m \u001b[38;5;28;01mreturn\u001b[39;00m \u001b[38;5;28mself\u001b[39m\u001b[38;5;241m.\u001b[39mobj\u001b[38;5;241m.\u001b[39m_ixs(key, axis\u001b[38;5;241m=\u001b[39maxis)\n",
      "File \u001b[1;32m~\\AppData\\Local\\Programs\\Python\\Python310\\lib\\site-packages\\pandas\\core\\indexing.py:1685\u001b[0m, in \u001b[0;36m_iLocIndexer._validate_integer\u001b[1;34m(self, key, axis)\u001b[0m\n\u001b[0;32m   1683\u001b[0m len_axis \u001b[38;5;241m=\u001b[39m \u001b[38;5;28mlen\u001b[39m(\u001b[38;5;28mself\u001b[39m\u001b[38;5;241m.\u001b[39mobj\u001b[38;5;241m.\u001b[39m_get_axis(axis))\n\u001b[0;32m   1684\u001b[0m \u001b[38;5;28;01mif\u001b[39;00m key \u001b[38;5;241m>\u001b[39m\u001b[38;5;241m=\u001b[39m len_axis \u001b[38;5;129;01mor\u001b[39;00m key \u001b[38;5;241m<\u001b[39m \u001b[38;5;241m-\u001b[39mlen_axis:\n\u001b[1;32m-> 1685\u001b[0m     \u001b[38;5;28;01mraise\u001b[39;00m \u001b[38;5;167;01mIndexError\u001b[39;00m(\u001b[38;5;124m\"\u001b[39m\u001b[38;5;124msingle positional indexer is out-of-bounds\u001b[39m\u001b[38;5;124m\"\u001b[39m)\n",
      "\u001b[1;31mIndexError\u001b[0m: single positional indexer is out-of-bounds"
     ]
    }
   ],
   "source": [
    "row = product_df.iloc[2] # fetch third row\n",
    "rows = product_df.iloc[0:2] # fetch rows from first till third but not third"
   ]
  },
  {
   "cell_type": "code",
   "execution_count": 91,
   "id": "7980b496-b3e8-448f-b7e7-740908f7fd87",
   "metadata": {},
   "outputs": [],
   "source": [
    "product_df['product'] # return column as series object\n",
    "\n",
    "gt_products = product_df['unit_sold'] > 2500 # return a series object of bool, for values greater than 2500\n",
    "products\n",
    "\n",
    "# calculate next month target by increasing 10% and store the resultant series object in product_df under next_target column\n",
    "product_df['next_target'] = product_df['unit_sold'] + ( product_df['unit_sold'] * 10)/100"
   ]
  },
  {
   "cell_type": "code",
   "execution_count": 16,
   "id": "4ccd6daa-a188-4948-98d1-a4d328880005",
   "metadata": {},
   "outputs": [],
   "source": [
    "#product_df.at['2','product']"
   ]
  },
  {
   "cell_type": "code",
   "execution_count": 48,
   "id": "9ed08571-8d7f-4d7a-82ea-02311017fd78",
   "metadata": {},
   "outputs": [
    {
     "name": "stdout",
     "output_type": "stream",
     "text": [
      "   age     sex     bmi  children smoker     region      charges\n",
      "0   19  female  27.900         0    yes  southwest  16884.92400\n",
      "1   18    male  33.770         1     no  southeast   1725.55230\n",
      "2   28    male  33.000         3     no  southeast   4449.46200\n",
      "3   33    male  22.705         0     no  northwest  21984.47061\n",
      "4   32    male  28.880         0     no  northwest   3866.85520\n"
     ]
    }
   ],
   "source": [
    "insurance_df = pd.read_csv('insurance.csv', sep=',') # separator can also be changed\n",
    "print(insurance_df.head(5))"
   ]
  },
  {
   "cell_type": "code",
   "execution_count": 49,
   "id": "9f328648-9f6d-4231-9888-fdf0d1447e77",
   "metadata": {},
   "outputs": [],
   "source": [
    "sorted_insurance_df = insurance_df.sort_values('bmi', # sort by column\n",
    "                                 ascending=False, # enable descending order\n",
    "                                 kind='heapsort', #sorting algorithm\n",
    "                                 na_position='last') # keep NaN value at last"
   ]
  },
  {
   "cell_type": "code",
   "execution_count": 50,
   "id": "37e69348-55ba-47aa-9d0a-d93875a4acaf",
   "metadata": {},
   "outputs": [],
   "source": [
    "# Merge\n",
    "sorted_insurance_df = pd.merge(insurance_df.head(3),\n",
    "                           insurance_df.tail(3),\n",
    "                           how='outer',\n",
    "                           indicator = True)"
   ]
  },
  {
   "cell_type": "code",
   "execution_count": 52,
   "id": "ecc8e5a0-f48e-4e8f-bd42-0246c8214729",
   "metadata": {},
   "outputs": [],
   "source": [
    "top_df = insurance_df.head(3)\n",
    "bottom_df = insurance_df.tail(3)\n",
    "combined_insurance_df = pd.concat( [top_df, bottom_df] )"
   ]
  },
  {
   "cell_type": "code",
   "execution_count": 59,
   "id": "60464aba-5ab0-40bf-baf1-822ab5da6355",
   "metadata": {},
   "outputs": [
    {
     "name": "stdout",
     "output_type": "stream",
     "text": [
      "      age     sex    bmi  children smoker     region     charges\n",
      "1      18    male  33.77         1     no  southeast   1725.5523\n",
      "2      28    male  33.00         3     no  southeast   4449.4620\n",
      "5      31  female  25.74         0     no  southeast   3756.6216\n",
      "6      46  female  33.44         1     no  southeast   8240.5896\n",
      "11     62  female  26.29         0    yes  southeast  27808.7251\n",
      "...   ...     ...    ...       ...    ...        ...         ...\n",
      "1322   62    male  38.83         0     no  southeast  12981.3457\n",
      "1323   42  female  40.37         2    yes  southeast  43896.3763\n",
      "1327   51    male  30.03         1     no  southeast   9377.9047\n",
      "1330   57  female  25.74         2     no  southeast  12629.1656\n",
      "1335   18  female  36.85         0     no  southeast   1629.8335\n",
      "\n",
      "[364 rows x 7 columns]\n"
     ]
    }
   ],
   "source": [
    "insurance_group = insurance_df.groupby('region')\n",
    "print(insurance_group.get_group('southeast'))"
   ]
  },
  {
   "cell_type": "code",
   "execution_count": 84,
   "id": "a2e7d2b1-98b4-4552-b5c2-7e8290707498",
   "metadata": {},
   "outputs": [],
   "source": [
    "insurance_df = insurance_df.rename(columns={'region':'sex'},index={1:1})\n"
   ]
  },
  {
   "cell_type": "code",
   "execution_count": 85,
   "id": "374620a0-4bcf-4723-824a-cd8f8681f8ce",
   "metadata": {},
   "outputs": [
    {
     "data": {
      "text/plain": [
       "age         0\n",
       "sex         0\n",
       "bmi         0\n",
       "children    0\n",
       "smoker      0\n",
       "sex         0\n",
       "charges     0\n",
       "dtype: int64"
      ]
     },
     "execution_count": 85,
     "metadata": {},
     "output_type": "execute_result"
    }
   ],
   "source": [
    "insurance_df.isnull().values.any() # verify if any value is null\n",
    "insurance_df.isnull().sum() # display summary of null values per column"
   ]
  },
  {
   "cell_type": "code",
   "execution_count": 86,
   "id": "b8b1357a-e869-4221-bede-27020117d1ea",
   "metadata": {},
   "outputs": [],
   "source": [
    "insurance_df = pd.read_csv(\"insurance.csv\", na_values = ['NA', 'N/A','-'])\n"
   ]
  },
  {
   "cell_type": "code",
   "execution_count": 87,
   "id": "35f39d13-d0a2-4135-ad78-a6fca4e29567",
   "metadata": {},
   "outputs": [],
   "source": [
    "import numpy as np\n",
    "product_data={'product': ['E-book', 'Plants'], 'unit_sold': [12, np.nan]} # need to import numpy as np\n",
    "product_df = pd.DataFrame(data=product_data)\n",
    "product_df.fillna(0, inplace=True)"
   ]
  },
  {
   "cell_type": "code",
   "execution_count": 88,
   "id": "815ba52c-c3a5-49fb-9dc3-639f34db25fb",
   "metadata": {},
   "outputs": [
    {
     "data": {
      "text/html": [
       "<div>\n",
       "<style scoped>\n",
       "    .dataframe tbody tr th:only-of-type {\n",
       "        vertical-align: middle;\n",
       "    }\n",
       "\n",
       "    .dataframe tbody tr th {\n",
       "        vertical-align: top;\n",
       "    }\n",
       "\n",
       "    .dataframe thead th {\n",
       "        text-align: right;\n",
       "    }\n",
       "</style>\n",
       "<table border=\"1\" class=\"dataframe\">\n",
       "  <thead>\n",
       "    <tr style=\"text-align: right;\">\n",
       "      <th></th>\n",
       "      <th>Name</th>\n",
       "    </tr>\n",
       "  </thead>\n",
       "  <tbody>\n",
       "    <tr>\n",
       "      <th>1</th>\n",
       "      <td>Saima</td>\n",
       "    </tr>\n",
       "    <tr>\n",
       "      <th>2</th>\n",
       "      <td>Syed</td>\n",
       "    </tr>\n",
       "  </tbody>\n",
       "</table>\n",
       "</div>"
      ],
      "text/plain": [
       "    Name\n",
       "1  Saima\n",
       "2   Syed"
      ]
     },
     "execution_count": 88,
     "metadata": {},
     "output_type": "execute_result"
    }
   ],
   "source": [
    "df = pd.DataFrame({'Name':['Saima','Syed']}, index=[1,2])\n",
    "df.drop_duplicates(subset='Name',keep='last')"
   ]
  },
  {
   "cell_type": "code",
   "execution_count": 89,
   "id": "fffe2f80-b0e6-47fc-a83c-e360db786bd7",
   "metadata": {},
   "outputs": [],
   "source": [
    "product_df = pd.DataFrame(data={'product': ['E-book', 'Plants'],\n",
    "                        'unit_sold': [2000, 5000],\n",
    "                        'types': [800, 200]})\n",
    "product_df.to_csv('exported_file.csv',\n",
    "                  index=False, # otherwise will add extra comma at start\n",
    "                  sep=',',\n",
    "                  encoding='utf-8')"
   ]
  },
  {
   "cell_type": "code",
   "execution_count": null,
   "id": "86df3338-ff14-43c3-977f-8373dd255ae4",
   "metadata": {},
   "outputs": [],
   "source": [
    "\n",
    "\n"
   ]
  }
 ],
 "metadata": {
  "kernelspec": {
   "display_name": "Python 3 (ipykernel)",
   "language": "python",
   "name": "python3"
  },
  "language_info": {
   "codemirror_mode": {
    "name": "ipython",
    "version": 3
   },
   "file_extension": ".py",
   "mimetype": "text/x-python",
   "name": "python",
   "nbconvert_exporter": "python",
   "pygments_lexer": "ipython3",
   "version": "3.10.2"
  }
 },
 "nbformat": 4,
 "nbformat_minor": 5
}
